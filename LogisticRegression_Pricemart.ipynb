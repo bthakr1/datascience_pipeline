{
 "cells": [
  {
   "cell_type": "markdown",
   "metadata": {},
   "source": [
    "\n",
    "# 2020-0120 C6 Data Science Pipeline and Critical Thinking\n",
    "\n",
    "=====\n",
    "\n",
    "**Instructors**: Srikant Datar, Hanspeter Pfister, Joe Blitzstein <br/>\n",
    "**Author**: Rashmi Banthia\n",
    "\n",
    "=====\n",
    "\n",
    "*Rashmi Banthia*\n"
   ]
  },
  {
   "cell_type": "code",
   "execution_count": 1,
   "metadata": {},
   "outputs": [],
   "source": [
    "from sklearn.linear_model import LogisticRegression\n",
    "import pandas as pd\n",
    "import numpy as np\n",
    "from sklearn.model_selection import train_test_split\n",
    "from sklearn.metrics import accuracy_score, log_loss"
   ]
  },
  {
   "cell_type": "code",
   "execution_count": 2,
   "metadata": {},
   "outputs": [
    {
     "data": {
      "text/plain": [
       "(10000, 21)"
      ]
     },
     "execution_count": 2,
     "metadata": {},
     "output_type": "execute_result"
    }
   ],
   "source": [
    "df = pd.read_csv('pricemart_500_9500_hbap.csv')\n",
    "df.shape"
   ]
  },
  {
   "cell_type": "code",
   "execution_count": 3,
   "metadata": {},
   "outputs": [
    {
     "data": {
      "text/html": [
       "<div>\n",
       "<style scoped>\n",
       "    .dataframe tbody tr th:only-of-type {\n",
       "        vertical-align: middle;\n",
       "    }\n",
       "\n",
       "    .dataframe tbody tr th {\n",
       "        vertical-align: top;\n",
       "    }\n",
       "\n",
       "    .dataframe thead th {\n",
       "        text-align: right;\n",
       "    }\n",
       "</style>\n",
       "<table border=\"1\" class=\"dataframe\">\n",
       "  <thead>\n",
       "    <tr style=\"text-align: right;\">\n",
       "      <th></th>\n",
       "      <th>Apt</th>\n",
       "      <th>Birth Control</th>\n",
       "      <th>Body Pillow</th>\n",
       "      <th>Cigarettes</th>\n",
       "      <th>Female</th>\n",
       "      <th>Feminine Hygiene</th>\n",
       "      <th>Folic Acid</th>\n",
       "      <th>Ginger Ale</th>\n",
       "      <th>Home</th>\n",
       "      <th>Ice Cream</th>\n",
       "      <th>...</th>\n",
       "      <th>Maternity Clothes</th>\n",
       "      <th>PREGNANT</th>\n",
       "      <th>Pregnancy Test</th>\n",
       "      <th>Prenatal Vitamins</th>\n",
       "      <th>Prenatal Yoga</th>\n",
       "      <th>Sea Bands</th>\n",
       "      <th>Smoking Cessation</th>\n",
       "      <th>Stopped buying ciggies</th>\n",
       "      <th>Stopped buying wine</th>\n",
       "      <th>Wine</th>\n",
       "    </tr>\n",
       "  </thead>\n",
       "  <tbody>\n",
       "    <tr>\n",
       "      <td>0</td>\n",
       "      <td>1</td>\n",
       "      <td>0</td>\n",
       "      <td>0</td>\n",
       "      <td>0</td>\n",
       "      <td>0</td>\n",
       "      <td>0</td>\n",
       "      <td>0</td>\n",
       "      <td>0</td>\n",
       "      <td>0</td>\n",
       "      <td>37</td>\n",
       "      <td>...</td>\n",
       "      <td>0</td>\n",
       "      <td>1</td>\n",
       "      <td>1</td>\n",
       "      <td>26</td>\n",
       "      <td>0</td>\n",
       "      <td>0</td>\n",
       "      <td>0</td>\n",
       "      <td>0</td>\n",
       "      <td>0</td>\n",
       "      <td>0</td>\n",
       "    </tr>\n",
       "    <tr>\n",
       "      <td>1</td>\n",
       "      <td>0</td>\n",
       "      <td>0</td>\n",
       "      <td>0</td>\n",
       "      <td>0</td>\n",
       "      <td>0</td>\n",
       "      <td>0</td>\n",
       "      <td>0</td>\n",
       "      <td>0</td>\n",
       "      <td>1</td>\n",
       "      <td>12</td>\n",
       "      <td>...</td>\n",
       "      <td>0</td>\n",
       "      <td>1</td>\n",
       "      <td>1</td>\n",
       "      <td>32</td>\n",
       "      <td>0</td>\n",
       "      <td>0</td>\n",
       "      <td>0</td>\n",
       "      <td>0</td>\n",
       "      <td>0</td>\n",
       "      <td>0</td>\n",
       "    </tr>\n",
       "    <tr>\n",
       "      <td>2</td>\n",
       "      <td>0</td>\n",
       "      <td>0</td>\n",
       "      <td>0</td>\n",
       "      <td>0</td>\n",
       "      <td>0</td>\n",
       "      <td>0</td>\n",
       "      <td>0</td>\n",
       "      <td>0</td>\n",
       "      <td>1</td>\n",
       "      <td>72</td>\n",
       "      <td>...</td>\n",
       "      <td>0</td>\n",
       "      <td>1</td>\n",
       "      <td>1</td>\n",
       "      <td>39</td>\n",
       "      <td>0</td>\n",
       "      <td>1</td>\n",
       "      <td>0</td>\n",
       "      <td>0</td>\n",
       "      <td>0</td>\n",
       "      <td>0</td>\n",
       "    </tr>\n",
       "    <tr>\n",
       "      <td>3</td>\n",
       "      <td>0</td>\n",
       "      <td>0</td>\n",
       "      <td>0</td>\n",
       "      <td>0</td>\n",
       "      <td>0</td>\n",
       "      <td>0</td>\n",
       "      <td>0</td>\n",
       "      <td>1</td>\n",
       "      <td>1</td>\n",
       "      <td>9</td>\n",
       "      <td>...</td>\n",
       "      <td>0</td>\n",
       "      <td>1</td>\n",
       "      <td>0</td>\n",
       "      <td>33</td>\n",
       "      <td>0</td>\n",
       "      <td>0</td>\n",
       "      <td>0</td>\n",
       "      <td>0</td>\n",
       "      <td>0</td>\n",
       "      <td>0</td>\n",
       "    </tr>\n",
       "    <tr>\n",
       "      <td>4</td>\n",
       "      <td>1</td>\n",
       "      <td>0</td>\n",
       "      <td>0</td>\n",
       "      <td>0</td>\n",
       "      <td>1</td>\n",
       "      <td>0</td>\n",
       "      <td>0</td>\n",
       "      <td>0</td>\n",
       "      <td>0</td>\n",
       "      <td>75</td>\n",
       "      <td>...</td>\n",
       "      <td>0</td>\n",
       "      <td>1</td>\n",
       "      <td>0</td>\n",
       "      <td>25</td>\n",
       "      <td>1</td>\n",
       "      <td>0</td>\n",
       "      <td>0</td>\n",
       "      <td>0</td>\n",
       "      <td>1</td>\n",
       "      <td>0</td>\n",
       "    </tr>\n",
       "  </tbody>\n",
       "</table>\n",
       "<p>5 rows × 21 columns</p>\n",
       "</div>"
      ],
      "text/plain": [
       "   Apt  Birth Control  Body Pillow  Cigarettes  Female  Feminine Hygiene  \\\n",
       "0    1              0            0           0       0                 0   \n",
       "1    0              0            0           0       0                 0   \n",
       "2    0              0            0           0       0                 0   \n",
       "3    0              0            0           0       0                 0   \n",
       "4    1              0            0           0       1                 0   \n",
       "\n",
       "   Folic Acid  Ginger Ale  Home  Ice Cream  ...  Maternity Clothes  PREGNANT  \\\n",
       "0           0           0     0         37  ...                  0         1   \n",
       "1           0           0     1         12  ...                  0         1   \n",
       "2           0           0     1         72  ...                  0         1   \n",
       "3           0           1     1          9  ...                  0         1   \n",
       "4           0           0     0         75  ...                  0         1   \n",
       "\n",
       "   Pregnancy Test  Prenatal Vitamins  Prenatal Yoga  Sea Bands  \\\n",
       "0               1                 26              0          0   \n",
       "1               1                 32              0          0   \n",
       "2               1                 39              0          1   \n",
       "3               0                 33              0          0   \n",
       "4               0                 25              1          0   \n",
       "\n",
       "   Smoking Cessation  Stopped buying ciggies  Stopped buying wine  Wine  \n",
       "0                  0                       0                    0     0  \n",
       "1                  0                       0                    0     0  \n",
       "2                  0                       0                    0     0  \n",
       "3                  0                       0                    0     0  \n",
       "4                  0                       0                    1     0  \n",
       "\n",
       "[5 rows x 21 columns]"
      ]
     },
     "execution_count": 3,
     "metadata": {},
     "output_type": "execute_result"
    }
   ],
   "source": [
    "df.head()"
   ]
  },
  {
   "cell_type": "code",
   "execution_count": 4,
   "metadata": {},
   "outputs": [
    {
     "data": {
      "text/plain": [
       "Index(['Apt', 'Birth Control', 'Body Pillow', 'Cigarettes', 'Female',\n",
       "       'Feminine Hygiene', 'Folic Acid', 'Ginger Ale', 'Home', 'Ice Cream',\n",
       "       'Male', 'Maternity Clothes', 'PREGNANT', 'Pregnancy Test',\n",
       "       'Prenatal Vitamins', 'Prenatal Yoga', 'Sea Bands', 'Smoking Cessation',\n",
       "       'Stopped buying ciggies', 'Stopped buying wine', 'Wine'],\n",
       "      dtype='object')"
      ]
     },
     "execution_count": 4,
     "metadata": {},
     "output_type": "execute_result"
    }
   ],
   "source": [
    "df.columns"
   ]
  },
  {
   "cell_type": "code",
   "execution_count": 5,
   "metadata": {},
   "outputs": [],
   "source": [
    "predictors = ['Apt', 'Birth Control', 'Body Pillow', 'Cigarettes', 'Female',\n",
    "       'Feminine Hygiene', 'Folic Acid', 'Ginger Ale', 'Home', 'Ice Cream',\n",
    "       'Male', 'Maternity Clothes',  'Pregnancy Test',\n",
    "       'Prenatal Vitamins', 'Prenatal Yoga', 'Sea Bands', 'Smoking Cessation',\n",
    "       'Stopped buying ciggies', 'Stopped buying wine', 'Wine']\n",
    "target = 'PREGNANT'"
   ]
  },
  {
   "cell_type": "code",
   "execution_count": 6,
   "metadata": {},
   "outputs": [],
   "source": [
    "X_train, X_test, y_train, y_test = train_test_split(df[predictors],df.PREGNANT, test_size = 0.2, stratify = df.PREGNANT)\n"
   ]
  },
  {
   "cell_type": "code",
   "execution_count": 7,
   "metadata": {},
   "outputs": [
    {
     "data": {
      "text/plain": [
       "0    0.95\n",
       "1    0.05\n",
       "Name: PREGNANT, dtype: float64"
      ]
     },
     "execution_count": 7,
     "metadata": {},
     "output_type": "execute_result"
    }
   ],
   "source": [
    "y_train.value_counts(normalize=True)"
   ]
  },
  {
   "cell_type": "code",
   "execution_count": 8,
   "metadata": {},
   "outputs": [
    {
     "data": {
      "text/plain": [
       "0    0.95\n",
       "1    0.05\n",
       "Name: PREGNANT, dtype: float64"
      ]
     },
     "execution_count": 8,
     "metadata": {},
     "output_type": "execute_result"
    }
   ],
   "source": [
    "y_test.value_counts(normalize=True)"
   ]
  },
  {
   "cell_type": "code",
   "execution_count": 9,
   "metadata": {},
   "outputs": [
    {
     "data": {
      "text/plain": [
       "0    0.95\n",
       "1    0.05\n",
       "Name: PREGNANT, dtype: float64"
      ]
     },
     "execution_count": 9,
     "metadata": {},
     "output_type": "execute_result"
    }
   ],
   "source": [
    "df.PREGNANT.value_counts(normalize=True)"
   ]
  },
  {
   "cell_type": "code",
   "execution_count": 10,
   "metadata": {},
   "outputs": [
    {
     "name": "stdout",
     "output_type": "stream",
     "text": [
      "0.96\n"
     ]
    },
    {
     "data": {
      "text/plain": [
       "0.13269906523309266"
      ]
     },
     "execution_count": 10,
     "metadata": {},
     "output_type": "execute_result"
    }
   ],
   "source": [
    "clf = LogisticRegression(random_state=0, C=10000, max_iter=500, solver='lbfgs').fit(X_train, y_train)\n",
    "preds = clf.predict_proba(X_test)[:,1]\n",
    "print(accuracy_score(y_test, preds>0.5))\n",
    "log_loss(y_test,preds)"
   ]
  },
  {
   "cell_type": "markdown",
   "metadata": {},
   "source": [
    "### 5 fold CV"
   ]
  },
  {
   "cell_type": "code",
   "execution_count": 11,
   "metadata": {},
   "outputs": [],
   "source": [
    "import numpy as np\n",
    "from sklearn.model_selection import StratifiedKFold"
   ]
  },
  {
   "cell_type": "code",
   "execution_count": 12,
   "metadata": {},
   "outputs": [
    {
     "name": "stdout",
     "output_type": "stream",
     "text": [
      "C:= 0.01 Logloss 5 fold: 0.16311737030313694\n",
      "C:= 1 Logloss 5 fold: 0.13054908157116424\n",
      "C:= 1000 Logloss 5 fold: 0.13048984523225338\n",
      "C:= 10000 Logloss 5 fold: 0.13048961015979793\n"
     ]
    }
   ],
   "source": [
    "skf = StratifiedKFold(n_splits=5,random_state=101)\n",
    "skf.get_n_splits(X_train, y_train)\n",
    "\n",
    "\n",
    "for cvalue in [0.01, 1,1000,10000] :\n",
    "    avg_log_loss = [] \n",
    "    for train_index, test_index in skf.split(X_train, y_train):\n",
    "\n",
    "        X_train_fold, X_test_fold = X_train.iloc[train_index,:], X_train.iloc[test_index,:]\n",
    "        y_train_fold, y_test_fold = y_train.iloc[train_index], y_train.iloc[test_index]\n",
    "\n",
    "        clf = LogisticRegression(random_state=0, C=cvalue, max_iter=500, solver='lbfgs').fit(X_train_fold, y_train_fold)\n",
    "        preds = clf.predict_proba(X_test_fold)[:,1]\n",
    "        #print(log_loss(y_test_fold,preds))\n",
    "        avg_log_loss.append(log_loss(y_test_fold,preds))\n",
    "    \n",
    "    print(\"C:=\",cvalue, \"Logloss 5 fold:\", np.mean(avg_log_loss))\n"
   ]
  },
  {
   "cell_type": "markdown",
   "metadata": {},
   "source": [
    "#Best C=1"
   ]
  },
  {
   "cell_type": "code",
   "execution_count": null,
   "metadata": {},
   "outputs": [],
   "source": []
  }
 ],
 "metadata": {
  "kernelspec": {
   "display_name": "Python 3",
   "language": "python",
   "name": "python3"
  },
  "language_info": {
   "codemirror_mode": {
    "name": "ipython",
    "version": 3
   },
   "file_extension": ".py",
   "mimetype": "text/x-python",
   "name": "python",
   "nbconvert_exporter": "python",
   "pygments_lexer": "ipython3",
   "version": "3.7.3"
  }
 },
 "nbformat": 4,
 "nbformat_minor": 2
}
